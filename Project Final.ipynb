{
 "cells": [
  {
   "cell_type": "markdown",
   "id": "3805366c",
   "metadata": {},
   "source": [
    "Importing Neccessary Programmes"
   ]
  },
  {
   "cell_type": "code",
   "execution_count": 1,
   "id": "01bf7f16",
   "metadata": {},
   "outputs": [],
   "source": [
    "import pandas as pd\n",
    "import numpy as np\n",
    "import seaborn as sns\n",
    "import matplotlib.pyplot as plt\n",
    "import lxml\n",
    "import html5lib\n",
    "from bs4 import BeautifulSoup"
   ]
  },
  {
   "cell_type": "markdown",
   "id": "df271673",
   "metadata": {},
   "source": [
    "Reading CSV files & Web Scraping (htmL_read)"
   ]
  },
  {
   "cell_type": "code",
   "execution_count": 2,
   "id": "13bde67a",
   "metadata": {},
   "outputs": [],
   "source": [
    "#Reading three CSV files that contain Ireland population, GDP and education data from the OECD and the World Bank\n",
    "irl_pop = pd.read_csv(r'C:\\Users\\jwhol\\Desktop\\Data Analytics Course\\Sources\\OECD\\Ireland Population.csv')\n",
    "irl_gdp = pd.read_csv(r'C:\\Users\\jwhol\\Desktop\\Data Analytics Course\\Sources\\World Bank\\ireland_gdp.csv')\n",
    "irl_edu = pd.read_csv(r'C:\\Users\\jwhol\\Desktop\\Data Analytics Course\\Sources\\OECD\\eduation_rate.csv')"
   ]
  },
  {
   "cell_type": "code",
   "execution_count": 3,
   "id": "50ecf18d",
   "metadata": {},
   "outputs": [
    {
     "name": "stdout",
     "output_type": "stream",
     "text": [
      "    Year  GDP (in Bil. US$PPP)  GDP per capita (in US$ PPP)  \\\n",
      "0   1980                  25.3                       7390.3   \n",
      "1   1981                  28.4                       8190.6   \n",
      "2   1982                  30.6                       8733.9   \n",
      "3   1983                  31.6                       8948.0   \n",
      "4   1984                  33.8                       9500.2   \n",
      "5   1985                  35.5                       9960.4   \n",
      "6   1986                  36.4                      10202.3   \n",
      "7   1987                  38.7                      10817.3   \n",
      "8   1988                  41.2                      11586.1   \n",
      "9   1989                  45.2                      12793.2   \n",
      "10  1990                  50.6                      14310.4   \n",
      "11  1991                  53.1                      14952.4   \n",
      "12  1992                  56.3                      15712.2   \n",
      "13  1993                  58.9                      16366.5   \n",
      "14  1994                  63.7                      17643.1   \n",
      "15  1995                  71.3                      19656.6   \n",
      "16  1996                  79.2                      21687.0   \n",
      "17  1997                  89.3                      24177.2   \n",
      "18  1998                  98.2                      26314.1   \n",
      "19  1999                 110.1                      29164.8   \n",
      "20  2000                 123.1                      32161.6   \n",
      "21  2001                 132.6                      34095.8   \n",
      "22  2002                 142.6                      36043.1   \n",
      "23  2003                 149.8                      37249.8   \n",
      "24  2004                 164.3                      40064.2   \n",
      "25  2005                 179.1                      42650.8   \n",
      "26  2006                 193.9                      44867.9   \n",
      "27  2007                 209.7                      47173.0   \n",
      "28  2008                 204.1                      45200.0   \n",
      "29  2009                 195.0                      42875.5   \n",
      "30  2010                 200.6                      43918.7   \n",
      "31  2011                 206.5                      45040.6   \n",
      "32  2012                 213.4                      46335.2   \n",
      "33  2013                 221.2                      47773.4   \n",
      "34  2014                 238.2                      51032.0   \n",
      "35  2015                 324.9                      68918.0   \n",
      "36  2016                 340.2                      71290.9   \n",
      "37  2017                 376.4                      78002.3   \n",
      "38  2018                 418.2                      85607.1   \n",
      "39  2019                 448.9                      90696.9   \n",
      "40  2020                 482.4                      96618.9   \n",
      "41  2021                 570.7                     113267.8   \n",
      "42  2022                 666.3                     131034.1   \n",
      "43  2023                 717.7                     139844.2   \n",
      "44  2024                 762.1                     147149.5   \n",
      "45  2025                 799.8                     153018.7   \n",
      "46  2026                 839.5                     159163.6   \n",
      "47  2027                 881.6                     165603.8   \n",
      "\n",
      "    GDP (in Bil. US$nominal)  GDP per capita (in US$ nominal)  \\\n",
      "0                       21.4                           6252.2   \n",
      "1                       20.4                           5886.4   \n",
      "2                       21.3                           6078.1   \n",
      "3                       20.6                           5839.8   \n",
      "4                       19.9                           5591.8   \n",
      "5                       21.2                           5934.5   \n",
      "6                       28.5                           7993.2   \n",
      "7                       33.7                           9419.5   \n",
      "8                       36.9                          10365.3   \n",
      "9                       38.0                          10754.6   \n",
      "10                      48.2                          13644.8   \n",
      "11                      48.8                          13748.2   \n",
      "12                      54.9                          15331.9   \n",
      "13                      51.4                          14262.8   \n",
      "14                      55.8                          15455.4   \n",
      "15                      69.3                          19086.8   \n",
      "16                      75.9                          20781.4   \n",
      "17                      83.0                          22468.6   \n",
      "18                      90.3                          24202.5   \n",
      "19                      99.0                          26233.7   \n",
      "20                     100.3                          26186.3   \n",
      "21                     109.3                          28120.1   \n",
      "22                     128.5                          32482.1   \n",
      "23                     164.6                          40940.1   \n",
      "24                     194.3                          47389.3   \n",
      "25                     212.0                          50476.5   \n",
      "26                     232.2                          53738.8   \n",
      "27                     270.1                          60770.1   \n",
      "28                     275.4                          60990.0   \n",
      "29                     236.2                          51943.5   \n",
      "30                     222.1                          48620.6   \n",
      "31                     239.0                          52122.1   \n",
      "32                     225.8                          49029.3   \n",
      "33                     238.3                          51472.1   \n",
      "34                     259.2                          55542.0   \n",
      "35                     291.8                          61902.7   \n",
      "36                     299.0                          62668.1   \n",
      "37                     336.3                          69685.3   \n",
      "38                     385.9                          78988.6   \n",
      "39                     399.4                          80690.2   \n",
      "40                     425.5                          85225.1   \n",
      "41                     504.5                         100129.5   \n",
      "42                     519.8                         102217.4   \n",
      "43                     549.1                         106997.4   \n",
      "44                     594.2                         114728.2   \n",
      "45                     630.8                         120692.7   \n",
      "46                     670.7                         127144.3   \n",
      "47                     712.0                         133760.4   \n",
      "\n",
      "   GDP growth (real) Inflation rate (in Percent) Unemployment (in Percent)  \\\n",
      "0               2.9%                       18.3%                       NaN   \n",
      "1               2.5%                       20.2%                       NaN   \n",
      "2               1.5%                       17.2%                       NaN   \n",
      "3              -0.7%                       10.4%                       NaN   \n",
      "4               3.2%                        8.6%                       NaN   \n",
      "5               1.9%                        5.5%                     17.7%   \n",
      "6               0.4%                        3.0%                     18.1%   \n",
      "7               3.6%                        3.2%                     18.8%   \n",
      "8               3.0%                        2.2%                     18.4%   \n",
      "9               5.6%                        4.0%                     17.9%   \n",
      "10              7.7%                        3.4%                     17.2%   \n",
      "11              1.6%                        3.1%                     19.0%   \n",
      "12              3.6%                        3.2%                     16.3%   \n",
      "13              2.3%                        1.4%                     16.7%   \n",
      "14              5.9%                        2.4%                     15.1%   \n",
      "15              9.6%                        2.5%                     14.1%   \n",
      "16              9.1%                        2.2%                     11.8%   \n",
      "17             10.7%                        1.3%                      9.9%   \n",
      "18              8.8%                        2.1%                      7.6%   \n",
      "19             10.5%                        2.4%                      5.9%   \n",
      "20              9.4%                        5.3%                      4.4%   \n",
      "21              5.3%                        4.0%                      4.2%   \n",
      "22              5.9%                        4.7%                      4.7%   \n",
      "23              3.0%                        4.0%                      4.9%   \n",
      "24              6.8%                        2.3%                      4.8%   \n",
      "25              5.7%                        2.2%                      4.6%   \n",
      "26              5.0%                        2.7%                      4.8%   \n",
      "27              5.3%                        2.9%                      5.0%   \n",
      "28             -4.5%                        3.1%                      6.8%   \n",
      "29             -5.1%                       -1.7%                     12.6%   \n",
      "30              1.7%                       -1.6%                     14.6%   \n",
      "31              0.8%                        1.2%                     15.4%   \n",
      "32              0.0%                        1.9%                     15.5%   \n",
      "33              1.1%                        0.5%                     13.8%   \n",
      "34              8.6%                        0.3%                     11.9%   \n",
      "35             24.4%                       -0.1%                      9.9%   \n",
      "36              2.0%                       -0.2%                      8.4%   \n",
      "37              9.0%                        0.3%                      6.8%   \n",
      "38              8.5%                        0.7%                      5.8%   \n",
      "39              5.4%                        0.9%                      5.0%   \n",
      "40              6.2%                       -0.5%                      5.8%   \n",
      "41             13.6%                        2.4%                      6.3%   \n",
      "42              9.0%                        8.4%                      4.7%   \n",
      "43              4.0%                        6.5%                      4.8%   \n",
      "44              4.0%                        3.0%                      4.8%   \n",
      "45              3.0%                        2.0%                      4.8%   \n",
      "46              3.0%                        2.0%                      4.8%   \n",
      "47              3.0%                        2.0%                      4.8%   \n",
      "\n",
      "   Government debt (in % of GDP)  \n",
      "0                            NaN  \n",
      "1                            NaN  \n",
      "2                            NaN  \n",
      "3                            NaN  \n",
      "4                            NaN  \n",
      "5                            NaN  \n",
      "6                            NaN  \n",
      "7                            NaN  \n",
      "8                            NaN  \n",
      "9                            NaN  \n",
      "10                           NaN  \n",
      "11                           NaN  \n",
      "12                           NaN  \n",
      "13                           NaN  \n",
      "14                           NaN  \n",
      "15                         78.5%  \n",
      "16                         69.8%  \n",
      "17                         61.6%  \n",
      "18                         51.4%  \n",
      "19                         46.6%  \n",
      "20                         36.4%  \n",
      "21                         33.6%  \n",
      "22                         30.9%  \n",
      "23                         29.8%  \n",
      "24                         28.1%  \n",
      "25                         26.1%  \n",
      "26                         23.6%  \n",
      "27                         23.9%  \n",
      "28                         42.5%  \n",
      "29                         61.8%  \n",
      "30                         86.2%  \n",
      "31                        110.5%  \n",
      "32                        119.6%  \n",
      "33                        120.0%  \n",
      "34                        104.3%  \n",
      "35                         76.7%  \n",
      "36                         74.3%  \n",
      "37                         67.6%  \n",
      "38                         63.0%  \n",
      "39                         57.2%  \n",
      "40                         58.4%  \n",
      "41                         55.3%  \n",
      "42                         47.0%  \n",
      "43                         42.8%  \n",
      "44                         39.2%  \n",
      "45                         36.5%  \n",
      "46                         34.0%  \n",
      "47                         31.3%  \n"
     ]
    }
   ],
   "source": [
    "#Web Scraping a table of Irish economic data from wikipedia to get the unemployment rate over time\n",
    "\n",
    "url = 'https://en.wikipedia.org/wiki/Economy_of_the_Republic_of_Ireland'\n",
    "dfs = pd.read_html(url)\n",
    "print(dfs[1])\n"
   ]
  },
  {
   "cell_type": "code",
   "execution_count": 4,
   "id": "bd0e85fe",
   "metadata": {},
   "outputs": [
    {
     "name": "stdout",
     "output_type": "stream",
     "text": [
      "0     1980\n",
      "1     1981\n",
      "2     1982\n",
      "3     1983\n",
      "4     1984\n",
      "5     1985\n",
      "6     1986\n",
      "7     1987\n",
      "8     1988\n",
      "9     1989\n",
      "10    1990\n",
      "11    1991\n",
      "12    1992\n",
      "13    1993\n",
      "14    1994\n",
      "15    1995\n",
      "16    1996\n",
      "17    1997\n",
      "18    1998\n",
      "19    1999\n",
      "20    2000\n",
      "21    2001\n",
      "22    2002\n",
      "23    2003\n",
      "24    2004\n",
      "25    2005\n",
      "26    2006\n",
      "27    2007\n",
      "28    2008\n",
      "29    2009\n",
      "30    2010\n",
      "31    2011\n",
      "32    2012\n",
      "33    2013\n",
      "34    2014\n",
      "35    2015\n",
      "36    2016\n",
      "37    2017\n",
      "38    2018\n",
      "39    2019\n",
      "40    2020\n",
      "41    2021\n",
      "42    2022\n",
      "43    2023\n",
      "44    2024\n",
      "45    2025\n",
      "46    2026\n",
      "47    2027\n",
      "Name: Year, dtype: int64\n",
      "0       NaN\n",
      "1       NaN\n",
      "2       NaN\n",
      "3       NaN\n",
      "4       NaN\n",
      "5     17.7%\n",
      "6     18.1%\n",
      "7     18.8%\n",
      "8     18.4%\n",
      "9     17.9%\n",
      "10    17.2%\n",
      "11    19.0%\n",
      "12    16.3%\n",
      "13    16.7%\n",
      "14    15.1%\n",
      "15    14.1%\n",
      "16    11.8%\n",
      "17     9.9%\n",
      "18     7.6%\n",
      "19     5.9%\n",
      "20     4.4%\n",
      "21     4.2%\n",
      "22     4.7%\n",
      "23     4.9%\n",
      "24     4.8%\n",
      "25     4.6%\n",
      "26     4.8%\n",
      "27     5.0%\n",
      "28     6.8%\n",
      "29    12.6%\n",
      "30    14.6%\n",
      "31    15.4%\n",
      "32    15.5%\n",
      "33    13.8%\n",
      "34    11.9%\n",
      "35     9.9%\n",
      "36     8.4%\n",
      "37     6.8%\n",
      "38     5.8%\n",
      "39     5.0%\n",
      "40     5.8%\n",
      "41     6.3%\n",
      "42     4.7%\n",
      "43     4.8%\n",
      "44     4.8%\n",
      "45     4.8%\n",
      "46     4.8%\n",
      "47     4.8%\n",
      "Name: Unemployment (in Percent), dtype: object\n"
     ]
    }
   ],
   "source": [
    "#I am isolating the columns that I want\n",
    "print(dfs[1]['Year'])\n",
    "print(dfs[1]['Unemployment (in Percent)'])"
   ]
  },
  {
   "cell_type": "code",
   "execution_count": 5,
   "id": "0519fc3e",
   "metadata": {},
   "outputs": [],
   "source": [
    "df = dfs[1]"
   ]
  },
  {
   "cell_type": "code",
   "execution_count": 6,
   "id": "b1aac34e",
   "metadata": {},
   "outputs": [
    {
     "name": "stdout",
     "output_type": "stream",
     "text": [
      "    Year Unemployment (in Percent)\n",
      "0   1980                       NaN\n",
      "1   1981                       NaN\n",
      "2   1982                       NaN\n",
      "3   1983                       NaN\n",
      "4   1984                       NaN\n",
      "5   1985                     17.7%\n",
      "6   1986                     18.1%\n",
      "7   1987                     18.8%\n",
      "8   1988                     18.4%\n",
      "9   1989                     17.9%\n",
      "10  1990                     17.2%\n",
      "11  1991                     19.0%\n",
      "12  1992                     16.3%\n",
      "13  1993                     16.7%\n",
      "14  1994                     15.1%\n",
      "15  1995                     14.1%\n",
      "16  1996                     11.8%\n",
      "17  1997                      9.9%\n",
      "18  1998                      7.6%\n",
      "19  1999                      5.9%\n",
      "20  2000                      4.4%\n",
      "21  2001                      4.2%\n",
      "22  2002                      4.7%\n",
      "23  2003                      4.9%\n",
      "24  2004                      4.8%\n",
      "25  2005                      4.6%\n",
      "26  2006                      4.8%\n",
      "27  2007                      5.0%\n",
      "28  2008                      6.8%\n",
      "29  2009                     12.6%\n",
      "30  2010                     14.6%\n",
      "31  2011                     15.4%\n",
      "32  2012                     15.5%\n",
      "33  2013                     13.8%\n",
      "34  2014                     11.9%\n",
      "35  2015                      9.9%\n",
      "36  2016                      8.4%\n",
      "37  2017                      6.8%\n",
      "38  2018                      5.8%\n",
      "39  2019                      5.0%\n",
      "40  2020                      5.8%\n",
      "41  2021                      6.3%\n",
      "42  2022                      4.7%\n",
      "43  2023                      4.8%\n",
      "44  2024                      4.8%\n",
      "45  2025                      4.8%\n",
      "46  2026                      4.8%\n",
      "47  2027                      4.8%\n"
     ]
    }
   ],
   "source": [
    "#I am extracting the columns that I need\n",
    "irl_unemployment = df[['Year','Unemployment (in Percent)']]\n",
    "print(irl_unemployment)"
   ]
  },
  {
   "cell_type": "markdown",
   "id": "15ada912",
   "metadata": {},
   "source": [
    "Merging and Cleaning the Data, I am first going to merge all my data and then clean it. "
   ]
  },
  {
   "cell_type": "code",
   "execution_count": 7,
   "id": "b35c6116",
   "metadata": {},
   "outputs": [
    {
     "name": "stdout",
     "output_type": "stream",
     "text": [
      "   Year  Population  Flag Codes\n",
      "0  1990     3505800         NaN\n",
      "1  1991     3525700         NaN\n",
      "2  1992     3554500         NaN\n",
      "3  1993     3574100         NaN\n",
      "4  1994     3585900         NaN\n",
      "   Year          GDP\n",
      "0  1990  49305632408\n",
      "1  1991  49787501584\n",
      "2  1992  55918538121\n",
      "3  1993  52417477613\n",
      "4  1994  57097656065\n"
     ]
    }
   ],
   "source": [
    "#To begin I am going to work with irl_pop & irl_gdp\n",
    "print(irl_pop.head())\n",
    "print(irl_gdp.head())"
   ]
  },
  {
   "cell_type": "code",
   "execution_count": 8,
   "id": "7ac1a958",
   "metadata": {},
   "outputs": [
    {
     "name": "stdout",
     "output_type": "stream",
     "text": [
      "   Year  Population  Flag Codes          GDP\n",
      "0  1990     3505800         NaN  49305632408\n",
      "1  1991     3525700         NaN  49787501584\n",
      "2  1992     3554500         NaN  55918538121\n",
      "3  1993     3574100         NaN  52417477613\n",
      "4  1994     3585900         NaN  57097656065\n"
     ]
    }
   ],
   "source": [
    "#I use the merge() method with an outer merge to merge irl_pop and irl_gdp\n",
    "irl_pop_gdp = pd.merge(irl_pop, irl_gdp, how='outer')\n",
    "print(irl_pop_gdp.head())\n",
    "\n"
   ]
  },
  {
   "cell_type": "code",
   "execution_count": 9,
   "id": "0248dbe8",
   "metadata": {},
   "outputs": [
    {
     "name": "stdout",
     "output_type": "stream",
     "text": [
      "   Year  Population  Flag Codes          GDP  Tertiary Education % 25-34\n",
      "0  1990     3505800         NaN  49305632408                         NaN\n",
      "1  1991     3525700         NaN  49787501584                       19.66\n",
      "2  1992     3554500         NaN  55918538121                       21.19\n",
      "3  1993     3574100         NaN  52417477613                         NaN\n",
      "4  1994     3585900         NaN  57097656065                       24.38\n"
     ]
    }
   ],
   "source": [
    "#I use the merge() method with an outer merge to merge irl_pop_gdp and irl_edu\n",
    "irl_pop_gdp_edu = pd.merge(irl_pop_gdp, irl_edu, how='outer')\n",
    "print(irl_pop_gdp_edu.head())"
   ]
  },
  {
   "cell_type": "code",
   "execution_count": 10,
   "id": "d38a29c1",
   "metadata": {},
   "outputs": [
    {
     "name": "stdout",
     "output_type": "stream",
     "text": [
      "   Year  Population  Flag Codes           GDP  Tertiary Education % 25-34  \\\n",
      "0  1990   3505800.0         NaN  4.930563e+10                         NaN   \n",
      "1  1991   3525700.0         NaN  4.978750e+10                       19.66   \n",
      "2  1992   3554500.0         NaN  5.591854e+10                       21.19   \n",
      "3  1993   3574100.0         NaN  5.241748e+10                         NaN   \n",
      "4  1994   3585900.0         NaN  5.709766e+10                       24.38   \n",
      "\n",
      "  Unemployment (in Percent)  \n",
      "0                     17.2%  \n",
      "1                     19.0%  \n",
      "2                     16.3%  \n",
      "3                     16.7%  \n",
      "4                     15.1%  \n"
     ]
    }
   ],
   "source": [
    "#I use the merge() method with an outer merge to merge irl_pop_gdp_edu and irl_unemployment\n",
    "irl_econ_data = pd.merge(irl_pop_gdp_edu, irl_unemployment, how='outer')\n",
    "print(irl_econ_data.head())"
   ]
  },
  {
   "cell_type": "code",
   "execution_count": 11,
   "id": "aa372811",
   "metadata": {},
   "outputs": [],
   "source": [
    "#I will now use a number of methods and attributes to examine the dataframe"
   ]
  },
  {
   "cell_type": "code",
   "execution_count": 12,
   "id": "5f99c5a6",
   "metadata": {},
   "outputs": [
    {
     "data": {
      "text/html": [
       "<div>\n",
       "<style scoped>\n",
       "    .dataframe tbody tr th:only-of-type {\n",
       "        vertical-align: middle;\n",
       "    }\n",
       "\n",
       "    .dataframe tbody tr th {\n",
       "        vertical-align: top;\n",
       "    }\n",
       "\n",
       "    .dataframe thead th {\n",
       "        text-align: right;\n",
       "    }\n",
       "</style>\n",
       "<table border=\"1\" class=\"dataframe\">\n",
       "  <thead>\n",
       "    <tr style=\"text-align: right;\">\n",
       "      <th></th>\n",
       "      <th>Year</th>\n",
       "      <th>Population</th>\n",
       "      <th>Flag Codes</th>\n",
       "      <th>GDP</th>\n",
       "      <th>Tertiary Education % 25-34</th>\n",
       "      <th>Unemployment (in Percent)</th>\n",
       "    </tr>\n",
       "  </thead>\n",
       "  <tbody>\n",
       "    <tr>\n",
       "      <th>0</th>\n",
       "      <td>1990</td>\n",
       "      <td>3505800.0</td>\n",
       "      <td>NaN</td>\n",
       "      <td>4.930563e+10</td>\n",
       "      <td>NaN</td>\n",
       "      <td>17.2%</td>\n",
       "    </tr>\n",
       "    <tr>\n",
       "      <th>1</th>\n",
       "      <td>1991</td>\n",
       "      <td>3525700.0</td>\n",
       "      <td>NaN</td>\n",
       "      <td>4.978750e+10</td>\n",
       "      <td>19.66</td>\n",
       "      <td>19.0%</td>\n",
       "    </tr>\n",
       "    <tr>\n",
       "      <th>2</th>\n",
       "      <td>1992</td>\n",
       "      <td>3554500.0</td>\n",
       "      <td>NaN</td>\n",
       "      <td>5.591854e+10</td>\n",
       "      <td>21.19</td>\n",
       "      <td>16.3%</td>\n",
       "    </tr>\n",
       "    <tr>\n",
       "      <th>3</th>\n",
       "      <td>1993</td>\n",
       "      <td>3574100.0</td>\n",
       "      <td>NaN</td>\n",
       "      <td>5.241748e+10</td>\n",
       "      <td>NaN</td>\n",
       "      <td>16.7%</td>\n",
       "    </tr>\n",
       "    <tr>\n",
       "      <th>4</th>\n",
       "      <td>1994</td>\n",
       "      <td>3585900.0</td>\n",
       "      <td>NaN</td>\n",
       "      <td>5.709766e+10</td>\n",
       "      <td>24.38</td>\n",
       "      <td>15.1%</td>\n",
       "    </tr>\n",
       "  </tbody>\n",
       "</table>\n",
       "</div>"
      ],
      "text/plain": [
       "   Year  Population  Flag Codes           GDP  Tertiary Education % 25-34  \\\n",
       "0  1990   3505800.0         NaN  4.930563e+10                         NaN   \n",
       "1  1991   3525700.0         NaN  4.978750e+10                       19.66   \n",
       "2  1992   3554500.0         NaN  5.591854e+10                       21.19   \n",
       "3  1993   3574100.0         NaN  5.241748e+10                         NaN   \n",
       "4  1994   3585900.0         NaN  5.709766e+10                       24.38   \n",
       "\n",
       "  Unemployment (in Percent)  \n",
       "0                     17.2%  \n",
       "1                     19.0%  \n",
       "2                     16.3%  \n",
       "3                     16.7%  \n",
       "4                     15.1%  "
      ]
     },
     "execution_count": 12,
     "metadata": {},
     "output_type": "execute_result"
    }
   ],
   "source": [
    "irl_econ_data.head()"
   ]
  },
  {
   "cell_type": "code",
   "execution_count": 13,
   "id": "d86f652e",
   "metadata": {},
   "outputs": [
    {
     "name": "stdout",
     "output_type": "stream",
     "text": [
      "<class 'pandas.core.frame.DataFrame'>\n",
      "Int64Index: 48 entries, 0 to 47\n",
      "Data columns (total 6 columns):\n",
      " #   Column                      Non-Null Count  Dtype  \n",
      "---  ------                      --------------  -----  \n",
      " 0   Year                        48 non-null     int64  \n",
      " 1   Population                  32 non-null     float64\n",
      " 2   Flag Codes                  0 non-null      float64\n",
      " 3   GDP                         32 non-null     float64\n",
      " 4   Tertiary Education % 25-34  26 non-null     float64\n",
      " 5   Unemployment (in Percent)   43 non-null     object \n",
      "dtypes: float64(4), int64(1), object(1)\n",
      "memory usage: 2.6+ KB\n"
     ]
    }
   ],
   "source": [
    "irl_econ_data.info()"
   ]
  },
  {
   "cell_type": "code",
   "execution_count": 14,
   "id": "aedb9b9f",
   "metadata": {},
   "outputs": [
    {
     "data": {
      "text/plain": [
       "Int64Index([ 0,  1,  2,  3,  4,  5,  6,  7,  8,  9, 10, 11, 12, 13, 14, 15, 16,\n",
       "            17, 18, 19, 20, 21, 22, 23, 24, 25, 26, 27, 28, 29, 30, 31, 32, 33,\n",
       "            34, 35, 36, 37, 38, 39, 40, 41, 42, 43, 44, 45, 46, 47],\n",
       "           dtype='int64')"
      ]
     },
     "execution_count": 14,
     "metadata": {},
     "output_type": "execute_result"
    }
   ],
   "source": [
    "irl_econ_data.index"
   ]
  },
  {
   "cell_type": "code",
   "execution_count": 15,
   "id": "ddacec12",
   "metadata": {},
   "outputs": [
    {
     "data": {
      "text/html": [
       "<div>\n",
       "<style scoped>\n",
       "    .dataframe tbody tr th:only-of-type {\n",
       "        vertical-align: middle;\n",
       "    }\n",
       "\n",
       "    .dataframe tbody tr th {\n",
       "        vertical-align: top;\n",
       "    }\n",
       "\n",
       "    .dataframe thead th {\n",
       "        text-align: right;\n",
       "    }\n",
       "</style>\n",
       "<table border=\"1\" class=\"dataframe\">\n",
       "  <thead>\n",
       "    <tr style=\"text-align: right;\">\n",
       "      <th></th>\n",
       "      <th>Year</th>\n",
       "      <th>Population</th>\n",
       "      <th>Flag Codes</th>\n",
       "      <th>GDP</th>\n",
       "      <th>Tertiary Education % 25-34</th>\n",
       "    </tr>\n",
       "  </thead>\n",
       "  <tbody>\n",
       "    <tr>\n",
       "      <th>count</th>\n",
       "      <td>48.00</td>\n",
       "      <td>3.200000e+01</td>\n",
       "      <td>0.0</td>\n",
       "      <td>3.200000e+01</td>\n",
       "      <td>26.000000</td>\n",
       "    </tr>\n",
       "    <tr>\n",
       "      <th>mean</th>\n",
       "      <td>2003.50</td>\n",
       "      <td>4.199788e+06</td>\n",
       "      <td>NaN</td>\n",
       "      <td>2.009694e+11</td>\n",
       "      <td>43.304231</td>\n",
       "    </tr>\n",
       "    <tr>\n",
       "      <th>std</th>\n",
       "      <td>14.00</td>\n",
       "      <td>5.116418e+05</td>\n",
       "      <td>NaN</td>\n",
       "      <td>1.239997e+11</td>\n",
       "      <td>11.818313</td>\n",
       "    </tr>\n",
       "    <tr>\n",
       "      <th>min</th>\n",
       "      <td>1980.00</td>\n",
       "      <td>3.505800e+06</td>\n",
       "      <td>NaN</td>\n",
       "      <td>4.930563e+10</td>\n",
       "      <td>19.660000</td>\n",
       "    </tr>\n",
       "    <tr>\n",
       "      <th>25%</th>\n",
       "      <td>1991.75</td>\n",
       "      <td>3.693390e+06</td>\n",
       "      <td>NaN</td>\n",
       "      <td>8.836372e+10</td>\n",
       "      <td>35.672500</td>\n",
       "    </tr>\n",
       "    <tr>\n",
       "      <th>50%</th>\n",
       "      <td>2003.50</td>\n",
       "      <td>4.183384e+06</td>\n",
       "      <td>NaN</td>\n",
       "      <td>2.168953e+11</td>\n",
       "      <td>46.245000</td>\n",
       "    </tr>\n",
       "    <tr>\n",
       "      <th>75%</th>\n",
       "      <td>2015.25</td>\n",
       "      <td>4.622362e+06</td>\n",
       "      <td>NaN</td>\n",
       "      <td>2.714213e+11</td>\n",
       "      <td>51.767500</td>\n",
       "    </tr>\n",
       "    <tr>\n",
       "      <th>max</th>\n",
       "      <td>2027.00</td>\n",
       "      <td>5.011460e+06</td>\n",
       "      <td>NaN</td>\n",
       "      <td>5.041826e+11</td>\n",
       "      <td>62.880000</td>\n",
       "    </tr>\n",
       "  </tbody>\n",
       "</table>\n",
       "</div>"
      ],
      "text/plain": [
       "          Year    Population  Flag Codes           GDP  \\\n",
       "count    48.00  3.200000e+01         0.0  3.200000e+01   \n",
       "mean   2003.50  4.199788e+06         NaN  2.009694e+11   \n",
       "std      14.00  5.116418e+05         NaN  1.239997e+11   \n",
       "min    1980.00  3.505800e+06         NaN  4.930563e+10   \n",
       "25%    1991.75  3.693390e+06         NaN  8.836372e+10   \n",
       "50%    2003.50  4.183384e+06         NaN  2.168953e+11   \n",
       "75%    2015.25  4.622362e+06         NaN  2.714213e+11   \n",
       "max    2027.00  5.011460e+06         NaN  5.041826e+11   \n",
       "\n",
       "       Tertiary Education % 25-34  \n",
       "count                   26.000000  \n",
       "mean                    43.304231  \n",
       "std                     11.818313  \n",
       "min                     19.660000  \n",
       "25%                     35.672500  \n",
       "50%                     46.245000  \n",
       "75%                     51.767500  \n",
       "max                     62.880000  "
      ]
     },
     "execution_count": 15,
     "metadata": {},
     "output_type": "execute_result"
    }
   ],
   "source": [
    "irl_econ_data.describe()"
   ]
  },
  {
   "cell_type": "code",
   "execution_count": 16,
   "id": "91ba3bdb",
   "metadata": {},
   "outputs": [
    {
     "data": {
      "text/plain": [
       "Year                            int64\n",
       "Population                    float64\n",
       "Flag Codes                    float64\n",
       "GDP                           float64\n",
       "Tertiary Education % 25-34    float64\n",
       "Unemployment (in Percent)      object\n",
       "dtype: object"
      ]
     },
     "execution_count": 16,
     "metadata": {},
     "output_type": "execute_result"
    }
   ],
   "source": [
    "irl_econ_data.dtypes"
   ]
  },
  {
   "cell_type": "code",
   "execution_count": 17,
   "id": "c32f85c2",
   "metadata": {},
   "outputs": [
    {
     "data": {
      "text/plain": [
       "(48, 6)"
      ]
     },
     "execution_count": 17,
     "metadata": {},
     "output_type": "execute_result"
    }
   ],
   "source": [
    "irl_econ_data.shape"
   ]
  },
  {
   "cell_type": "code",
   "execution_count": 18,
   "id": "a562add1",
   "metadata": {},
   "outputs": [
    {
     "data": {
      "text/plain": [
       "Year                           0\n",
       "Population                    16\n",
       "Flag Codes                    48\n",
       "GDP                           16\n",
       "Tertiary Education % 25-34    22\n",
       "Unemployment (in Percent)      5\n",
       "dtype: int64"
      ]
     },
     "execution_count": 18,
     "metadata": {},
     "output_type": "execute_result"
    }
   ],
   "source": [
    "irl_econ_data.isnull().sum()"
   ]
  },
  {
   "cell_type": "code",
   "execution_count": 19,
   "id": "09d87838",
   "metadata": {},
   "outputs": [
    {
     "name": "stdout",
     "output_type": "stream",
     "text": [
      "    Year  Population  Flag Codes           GDP  Tertiary Education % 25-34  \\\n",
      "0   1990   3505800.0         NaN  4.930563e+10                         NaN   \n",
      "1   1991   3525700.0         NaN  4.978750e+10                       19.66   \n",
      "2   1992   3554500.0         NaN  5.591854e+10                       21.19   \n",
      "3   1993   3574100.0         NaN  5.241748e+10                         NaN   \n",
      "4   1994   3585900.0         NaN  5.709766e+10                       24.38   \n",
      "5   1995   3601300.0         NaN  6.913982e+10                       27.18   \n",
      "6   1996   3626087.0         NaN  7.579079e+10                         NaN   \n",
      "7   1997   3664313.0         NaN  8.285665e+10                         NaN   \n",
      "8   1998   3703082.0         NaN  9.019941e+10                         NaN   \n",
      "9   1999   3741647.0         NaN  9.889396e+10                         NaN   \n",
      "10  2000   3789536.0         NaN  1.002076e+11                       29.80   \n",
      "11  2001   3847198.0         NaN  1.093467e+11                       33.41   \n",
      "12  2002   3917203.0         NaN  1.285960e+11                       35.21   \n",
      "13  2003   3979853.0         NaN  1.646708e+11                       37.06   \n",
      "14  2004   4045188.0         NaN  1.943721e+11                       39.63   \n",
      "15  2005   4133839.0         NaN  2.118770e+11                       40.67   \n",
      "16  2006   4232929.0         NaN  2.321806e+11                       42.46   \n",
      "17  2007   4375842.0         NaN  2.700793e+11                       44.09   \n",
      "18  2008   4485070.0         NaN  2.754475e+11                       45.06   \n",
      "19  2009   4533395.0         NaN  2.364431e+11                       47.53   \n",
      "20  2010   4554763.0         NaN  2.219136e+11                       48.32   \n",
      "21  2011   4574888.0         NaN  2.390031e+11                       47.43   \n",
      "22  2012   4593697.0         NaN  2.256287e+11                       49.21   \n",
      "23  2013   4614669.0         NaN  2.383409e+11                       51.07   \n",
      "24  2014   4645440.0         NaN  2.591709e+11                       50.77   \n",
      "25  2015   4687787.0         NaN  2.917752e+11                       52.00   \n",
      "26  2016   4739597.0         NaN  2.990911e+11                       53.43   \n",
      "27  2017   4792490.0         NaN  3.363775e+11                       53.47   \n",
      "28  2018   4857015.0         NaN  3.857367e+11                       56.17   \n",
      "29  2019   4921496.0         NaN  3.993217e+11                       55.45   \n",
      "30  2020   4977443.0         NaN  4.258523e+11                       58.38   \n",
      "31  2021   5011460.0         NaN  5.041826e+11                       62.88   \n",
      "32  1980         NaN         NaN           NaN                         NaN   \n",
      "33  1981         NaN         NaN           NaN                         NaN   \n",
      "34  1982         NaN         NaN           NaN                         NaN   \n",
      "35  1983         NaN         NaN           NaN                         NaN   \n",
      "36  1984         NaN         NaN           NaN                         NaN   \n",
      "37  1985         NaN         NaN           NaN                         NaN   \n",
      "38  1986         NaN         NaN           NaN                         NaN   \n",
      "39  1987         NaN         NaN           NaN                         NaN   \n",
      "40  1988         NaN         NaN           NaN                         NaN   \n",
      "41  1989         NaN         NaN           NaN                         NaN   \n",
      "42  2022         NaN         NaN           NaN                         NaN   \n",
      "43  2023         NaN         NaN           NaN                         NaN   \n",
      "44  2024         NaN         NaN           NaN                         NaN   \n",
      "45  2025         NaN         NaN           NaN                         NaN   \n",
      "46  2026         NaN         NaN           NaN                         NaN   \n",
      "47  2027         NaN         NaN           NaN                         NaN   \n",
      "\n",
      "   Unemployment (in Percent)  \n",
      "0                      17.2%  \n",
      "1                      19.0%  \n",
      "2                      16.3%  \n",
      "3                      16.7%  \n",
      "4                      15.1%  \n",
      "5                      14.1%  \n",
      "6                      11.8%  \n",
      "7                       9.9%  \n",
      "8                       7.6%  \n",
      "9                       5.9%  \n",
      "10                      4.4%  \n",
      "11                      4.2%  \n",
      "12                      4.7%  \n",
      "13                      4.9%  \n",
      "14                      4.8%  \n",
      "15                      4.6%  \n",
      "16                      4.8%  \n",
      "17                      5.0%  \n",
      "18                      6.8%  \n",
      "19                     12.6%  \n",
      "20                     14.6%  \n",
      "21                     15.4%  \n",
      "22                     15.5%  \n",
      "23                     13.8%  \n",
      "24                     11.9%  \n",
      "25                      9.9%  \n",
      "26                      8.4%  \n",
      "27                      6.8%  \n",
      "28                      5.8%  \n",
      "29                      5.0%  \n",
      "30                      5.8%  \n",
      "31                      6.3%  \n",
      "32                       NaN  \n",
      "33                       NaN  \n",
      "34                       NaN  \n",
      "35                       NaN  \n",
      "36                       NaN  \n",
      "37                     17.7%  \n",
      "38                     18.1%  \n",
      "39                     18.8%  \n",
      "40                     18.4%  \n",
      "41                     17.9%  \n",
      "42                      4.7%  \n",
      "43                      4.8%  \n",
      "44                      4.8%  \n",
      "45                      4.8%  \n",
      "46                      4.8%  \n",
      "47                      4.8%  \n"
     ]
    }
   ],
   "source": [
    "print(irl_econ_data)"
   ]
  },
  {
   "cell_type": "code",
   "execution_count": 20,
   "id": "90b6a6de",
   "metadata": {},
   "outputs": [
    {
     "data": {
      "text/plain": [
       "0     False\n",
       "1     False\n",
       "2     False\n",
       "3     False\n",
       "4     False\n",
       "5     False\n",
       "6     False\n",
       "7     False\n",
       "8     False\n",
       "9     False\n",
       "10    False\n",
       "11    False\n",
       "12    False\n",
       "13    False\n",
       "14    False\n",
       "15    False\n",
       "16    False\n",
       "17    False\n",
       "18    False\n",
       "19    False\n",
       "20    False\n",
       "21    False\n",
       "22    False\n",
       "23    False\n",
       "24    False\n",
       "25    False\n",
       "26    False\n",
       "27    False\n",
       "28    False\n",
       "29    False\n",
       "30    False\n",
       "31    False\n",
       "32    False\n",
       "33    False\n",
       "34    False\n",
       "35    False\n",
       "36    False\n",
       "37    False\n",
       "38    False\n",
       "39    False\n",
       "40    False\n",
       "41    False\n",
       "42    False\n",
       "43    False\n",
       "44    False\n",
       "45    False\n",
       "46    False\n",
       "47    False\n",
       "dtype: bool"
      ]
     },
     "execution_count": 20,
     "metadata": {},
     "output_type": "execute_result"
    }
   ],
   "source": [
    "irl_econ_data.duplicated()"
   ]
  },
  {
   "cell_type": "code",
   "execution_count": 21,
   "id": "24ba4b12",
   "metadata": {},
   "outputs": [],
   "source": [
    "# From using these methods to examine the data I have discovered a number of things\n",
    "# I have an column I don't need 'Flag Codes'\n",
    "# Indexs 32-47 are NaN values that I do not need\n",
    "# I have a significant number of NaN values which I need to resolve\n",
    "# Unemployment (in Percent) is an object, I will have to change this to float64, I also want to remove the percentage sign\n",
    "# We do not have any duplicates"
   ]
  },
  {
   "cell_type": "code",
   "execution_count": 22,
   "id": "b90cbe78",
   "metadata": {},
   "outputs": [],
   "source": [
    "# I am dropping the 'Flag Codes' column\n",
    "irl_econ_data.drop('Flag Codes', axis=1, inplace=True)"
   ]
  },
  {
   "cell_type": "code",
   "execution_count": 23,
   "id": "fc9b1b8a",
   "metadata": {},
   "outputs": [
    {
     "name": "stdout",
     "output_type": "stream",
     "text": [
      "   Year  Population           GDP  Tertiary Education % 25-34  \\\n",
      "0  1990   3505800.0  4.930563e+10                         NaN   \n",
      "1  1991   3525700.0  4.978750e+10                       19.66   \n",
      "2  1992   3554500.0  5.591854e+10                       21.19   \n",
      "3  1993   3574100.0  5.241748e+10                         NaN   \n",
      "4  1994   3585900.0  5.709766e+10                       24.38   \n",
      "\n",
      "  Unemployment (in Percent)  \n",
      "0                     17.2%  \n",
      "1                     19.0%  \n",
      "2                     16.3%  \n",
      "3                     16.7%  \n",
      "4                     15.1%  \n"
     ]
    }
   ],
   "source": [
    "print(irl_econ_data.head())"
   ]
  },
  {
   "cell_type": "code",
   "execution_count": 24,
   "id": "bd8bc4d8",
   "metadata": {},
   "outputs": [],
   "source": [
    "#I am dropping indexs 32-47 as I do not need them for my analysis\n",
    "irl_econ_data = irl_econ_data.drop([32, 33, 34, 35, 36, 37, 38, 39, 40, 41, 42, 43, 44, 45, 46, 47])"
   ]
  },
  {
   "cell_type": "code",
   "execution_count": 25,
   "id": "1fa67b19",
   "metadata": {},
   "outputs": [],
   "source": [
    "irl_econ_data['Tertiary Education % 25-34'].fillna(method='bfill', inplace=True)"
   ]
  },
  {
   "cell_type": "code",
   "execution_count": 26,
   "id": "b863ca22",
   "metadata": {},
   "outputs": [
    {
     "name": "stdout",
     "output_type": "stream",
     "text": [
      "    Year  Population           GDP  Tertiary Education % 25-34  \\\n",
      "0   1990   3505800.0  4.930563e+10                       19.66   \n",
      "1   1991   3525700.0  4.978750e+10                       19.66   \n",
      "2   1992   3554500.0  5.591854e+10                       21.19   \n",
      "3   1993   3574100.0  5.241748e+10                       24.38   \n",
      "4   1994   3585900.0  5.709766e+10                       24.38   \n",
      "5   1995   3601300.0  6.913982e+10                       27.18   \n",
      "6   1996   3626087.0  7.579079e+10                       29.80   \n",
      "7   1997   3664313.0  8.285665e+10                       29.80   \n",
      "8   1998   3703082.0  9.019941e+10                       29.80   \n",
      "9   1999   3741647.0  9.889396e+10                       29.80   \n",
      "10  2000   3789536.0  1.002076e+11                       29.80   \n",
      "11  2001   3847198.0  1.093467e+11                       33.41   \n",
      "12  2002   3917203.0  1.285960e+11                       35.21   \n",
      "13  2003   3979853.0  1.646708e+11                       37.06   \n",
      "14  2004   4045188.0  1.943721e+11                       39.63   \n",
      "15  2005   4133839.0  2.118770e+11                       40.67   \n",
      "16  2006   4232929.0  2.321806e+11                       42.46   \n",
      "17  2007   4375842.0  2.700793e+11                       44.09   \n",
      "18  2008   4485070.0  2.754475e+11                       45.06   \n",
      "19  2009   4533395.0  2.364431e+11                       47.53   \n",
      "20  2010   4554763.0  2.219136e+11                       48.32   \n",
      "21  2011   4574888.0  2.390031e+11                       47.43   \n",
      "22  2012   4593697.0  2.256287e+11                       49.21   \n",
      "23  2013   4614669.0  2.383409e+11                       51.07   \n",
      "24  2014   4645440.0  2.591709e+11                       50.77   \n",
      "25  2015   4687787.0  2.917752e+11                       52.00   \n",
      "26  2016   4739597.0  2.990911e+11                       53.43   \n",
      "27  2017   4792490.0  3.363775e+11                       53.47   \n",
      "28  2018   4857015.0  3.857367e+11                       56.17   \n",
      "29  2019   4921496.0  3.993217e+11                       55.45   \n",
      "30  2020   4977443.0  4.258523e+11                       58.38   \n",
      "31  2021   5011460.0  5.041826e+11                       62.88   \n",
      "\n",
      "   Unemployment (in Percent)  \n",
      "0                      17.2%  \n",
      "1                      19.0%  \n",
      "2                      16.3%  \n",
      "3                      16.7%  \n",
      "4                      15.1%  \n",
      "5                      14.1%  \n",
      "6                      11.8%  \n",
      "7                       9.9%  \n",
      "8                       7.6%  \n",
      "9                       5.9%  \n",
      "10                      4.4%  \n",
      "11                      4.2%  \n",
      "12                      4.7%  \n",
      "13                      4.9%  \n",
      "14                      4.8%  \n",
      "15                      4.6%  \n",
      "16                      4.8%  \n",
      "17                      5.0%  \n",
      "18                      6.8%  \n",
      "19                     12.6%  \n",
      "20                     14.6%  \n",
      "21                     15.4%  \n",
      "22                     15.5%  \n",
      "23                     13.8%  \n",
      "24                     11.9%  \n",
      "25                      9.9%  \n",
      "26                      8.4%  \n",
      "27                      6.8%  \n",
      "28                      5.8%  \n",
      "29                      5.0%  \n",
      "30                      5.8%  \n",
      "31                      6.3%  \n"
     ]
    }
   ],
   "source": [
    "print(irl_econ_data)"
   ]
  },
  {
   "cell_type": "code",
   "execution_count": 27,
   "id": "3936ddc1",
   "metadata": {},
   "outputs": [],
   "source": [
    "# I now want to change Unemployment (in Percent) to a float and get rid of the percentage sign\n",
    "irl_econ_data['Unemployment (in Percent)'] = irl_econ_data['Unemployment (in Percent)'].str.replace('%', '')\n",
    "irl_econ_data['Unemployment (in Percent)'] = irl_econ_data['Unemployment (in Percent)'].astype(float)"
   ]
  },
  {
   "cell_type": "code",
   "execution_count": 28,
   "id": "0ec763c5",
   "metadata": {},
   "outputs": [
    {
     "data": {
      "text/plain": [
       "Year                            int64\n",
       "Population                    float64\n",
       "GDP                           float64\n",
       "Tertiary Education % 25-34    float64\n",
       "Unemployment (in Percent)     float64\n",
       "dtype: object"
      ]
     },
     "execution_count": 28,
     "metadata": {},
     "output_type": "execute_result"
    }
   ],
   "source": [
    "irl_econ_data.dtypes"
   ]
  },
  {
   "cell_type": "code",
   "execution_count": 29,
   "id": "9df25cb1",
   "metadata": {},
   "outputs": [
    {
     "name": "stdout",
     "output_type": "stream",
     "text": [
      "    Year  Population           GDP  Tertiary Education % 25-34  \\\n",
      "0   1990   3505800.0  4.930563e+10                       19.66   \n",
      "1   1991   3525700.0  4.978750e+10                       19.66   \n",
      "2   1992   3554500.0  5.591854e+10                       21.19   \n",
      "3   1993   3574100.0  5.241748e+10                       24.38   \n",
      "4   1994   3585900.0  5.709766e+10                       24.38   \n",
      "5   1995   3601300.0  6.913982e+10                       27.18   \n",
      "6   1996   3626087.0  7.579079e+10                       29.80   \n",
      "7   1997   3664313.0  8.285665e+10                       29.80   \n",
      "8   1998   3703082.0  9.019941e+10                       29.80   \n",
      "9   1999   3741647.0  9.889396e+10                       29.80   \n",
      "10  2000   3789536.0  1.002076e+11                       29.80   \n",
      "11  2001   3847198.0  1.093467e+11                       33.41   \n",
      "12  2002   3917203.0  1.285960e+11                       35.21   \n",
      "13  2003   3979853.0  1.646708e+11                       37.06   \n",
      "14  2004   4045188.0  1.943721e+11                       39.63   \n",
      "15  2005   4133839.0  2.118770e+11                       40.67   \n",
      "16  2006   4232929.0  2.321806e+11                       42.46   \n",
      "17  2007   4375842.0  2.700793e+11                       44.09   \n",
      "18  2008   4485070.0  2.754475e+11                       45.06   \n",
      "19  2009   4533395.0  2.364431e+11                       47.53   \n",
      "20  2010   4554763.0  2.219136e+11                       48.32   \n",
      "21  2011   4574888.0  2.390031e+11                       47.43   \n",
      "22  2012   4593697.0  2.256287e+11                       49.21   \n",
      "23  2013   4614669.0  2.383409e+11                       51.07   \n",
      "24  2014   4645440.0  2.591709e+11                       50.77   \n",
      "25  2015   4687787.0  2.917752e+11                       52.00   \n",
      "26  2016   4739597.0  2.990911e+11                       53.43   \n",
      "27  2017   4792490.0  3.363775e+11                       53.47   \n",
      "28  2018   4857015.0  3.857367e+11                       56.17   \n",
      "29  2019   4921496.0  3.993217e+11                       55.45   \n",
      "30  2020   4977443.0  4.258523e+11                       58.38   \n",
      "31  2021   5011460.0  5.041826e+11                       62.88   \n",
      "\n",
      "    Unemployment (in Percent)  \n",
      "0                        17.2  \n",
      "1                        19.0  \n",
      "2                        16.3  \n",
      "3                        16.7  \n",
      "4                        15.1  \n",
      "5                        14.1  \n",
      "6                        11.8  \n",
      "7                         9.9  \n",
      "8                         7.6  \n",
      "9                         5.9  \n",
      "10                        4.4  \n",
      "11                        4.2  \n",
      "12                        4.7  \n",
      "13                        4.9  \n",
      "14                        4.8  \n",
      "15                        4.6  \n",
      "16                        4.8  \n",
      "17                        5.0  \n",
      "18                        6.8  \n",
      "19                       12.6  \n",
      "20                       14.6  \n",
      "21                       15.4  \n",
      "22                       15.5  \n",
      "23                       13.8  \n",
      "24                       11.9  \n",
      "25                        9.9  \n",
      "26                        8.4  \n",
      "27                        6.8  \n",
      "28                        5.8  \n",
      "29                        5.0  \n",
      "30                        5.8  \n",
      "31                        6.3  \n"
     ]
    }
   ],
   "source": [
    "print(irl_econ_data)"
   ]
  },
  {
   "cell_type": "markdown",
   "id": "c7605dbe",
   "metadata": {},
   "source": [
    "After Merging and Cleaning my Data I am not going to add GDP per Capita, GDP Growth Rate and Population Growth Rate columns"
   ]
  },
  {
   "cell_type": "code",
   "execution_count": 30,
   "id": "185b39b2",
   "metadata": {},
   "outputs": [],
   "source": [
    "#Here I am using the pct_change() function to show the annual population growth rate in Ireland and add it as a column\n",
    "irl_econ_data['Annual Pop Growth'] = irl_econ_data['Population'].pct_change() * 100"
   ]
  },
  {
   "cell_type": "code",
   "execution_count": 31,
   "id": "73dfa809",
   "metadata": {},
   "outputs": [
    {
     "name": "stdout",
     "output_type": "stream",
     "text": [
      "   Year  Population           GDP  Tertiary Education % 25-34  \\\n",
      "0  1990   3505800.0  4.930563e+10                       19.66   \n",
      "1  1991   3525700.0  4.978750e+10                       19.66   \n",
      "2  1992   3554500.0  5.591854e+10                       21.19   \n",
      "3  1993   3574100.0  5.241748e+10                       24.38   \n",
      "4  1994   3585900.0  5.709766e+10                       24.38   \n",
      "\n",
      "   Unemployment (in Percent)  Annual Pop Growth  \n",
      "0                       17.2                NaN  \n",
      "1                       19.0           0.567631  \n",
      "2                       16.3           0.816859  \n",
      "3                       16.7           0.551414  \n",
      "4                       15.1           0.330153  \n"
     ]
    }
   ],
   "source": [
    "print(irl_econ_data.head())"
   ]
  },
  {
   "cell_type": "code",
   "execution_count": 32,
   "id": "fbdac42b",
   "metadata": {},
   "outputs": [],
   "source": [
    "#Here I am using the assign() function to to divide GDP by Population to give Ireland's GDP per capita and add it as a column\n",
    "irl_econ_data = irl_econ_data.assign(GDP_Per_Capita=irl_econ_data['GDP']/irl_econ_data['Population'])"
   ]
  },
  {
   "cell_type": "code",
   "execution_count": 33,
   "id": "c6a39d22",
   "metadata": {},
   "outputs": [
    {
     "name": "stdout",
     "output_type": "stream",
     "text": [
      "   Year  Population           GDP  Tertiary Education % 25-34  \\\n",
      "0  1990   3505800.0  4.930563e+10                       19.66   \n",
      "1  1991   3525700.0  4.978750e+10                       19.66   \n",
      "2  1992   3554500.0  5.591854e+10                       21.19   \n",
      "3  1993   3574100.0  5.241748e+10                       24.38   \n",
      "4  1994   3585900.0  5.709766e+10                       24.38   \n",
      "\n",
      "   Unemployment (in Percent)  Annual Pop Growth  GDP_Per_Capita  \n",
      "0                       17.2                NaN    14064.017459  \n",
      "1                       19.0           0.567631    14121.309693  \n",
      "2                       16.3           0.816859    15731.759213  \n",
      "3                       16.7           0.551414    14665.923621  \n",
      "4                       15.1           0.330153    15922.824414  \n"
     ]
    }
   ],
   "source": [
    "print(irl_econ_data.head())"
   ]
  },
  {
   "cell_type": "code",
   "execution_count": 34,
   "id": "00279299",
   "metadata": {},
   "outputs": [],
   "source": [
    "#Here I am using the pct_change() function to show the annual GDP growth rate in Ireland and add it as a column\n",
    "irl_econ_data['Annual GDP Growth'] = irl_econ_data['GDP'].pct_change() * 100"
   ]
  },
  {
   "cell_type": "code",
   "execution_count": 35,
   "id": "2876d916",
   "metadata": {},
   "outputs": [
    {
     "name": "stdout",
     "output_type": "stream",
     "text": [
      "    Year  Population           GDP  Tertiary Education % 25-34  \\\n",
      "0   1990   3505800.0  4.930563e+10                       19.66   \n",
      "1   1991   3525700.0  4.978750e+10                       19.66   \n",
      "2   1992   3554500.0  5.591854e+10                       21.19   \n",
      "3   1993   3574100.0  5.241748e+10                       24.38   \n",
      "4   1994   3585900.0  5.709766e+10                       24.38   \n",
      "5   1995   3601300.0  6.913982e+10                       27.18   \n",
      "6   1996   3626087.0  7.579079e+10                       29.80   \n",
      "7   1997   3664313.0  8.285665e+10                       29.80   \n",
      "8   1998   3703082.0  9.019941e+10                       29.80   \n",
      "9   1999   3741647.0  9.889396e+10                       29.80   \n",
      "10  2000   3789536.0  1.002076e+11                       29.80   \n",
      "11  2001   3847198.0  1.093467e+11                       33.41   \n",
      "12  2002   3917203.0  1.285960e+11                       35.21   \n",
      "13  2003   3979853.0  1.646708e+11                       37.06   \n",
      "14  2004   4045188.0  1.943721e+11                       39.63   \n",
      "15  2005   4133839.0  2.118770e+11                       40.67   \n",
      "16  2006   4232929.0  2.321806e+11                       42.46   \n",
      "17  2007   4375842.0  2.700793e+11                       44.09   \n",
      "18  2008   4485070.0  2.754475e+11                       45.06   \n",
      "19  2009   4533395.0  2.364431e+11                       47.53   \n",
      "20  2010   4554763.0  2.219136e+11                       48.32   \n",
      "21  2011   4574888.0  2.390031e+11                       47.43   \n",
      "22  2012   4593697.0  2.256287e+11                       49.21   \n",
      "23  2013   4614669.0  2.383409e+11                       51.07   \n",
      "24  2014   4645440.0  2.591709e+11                       50.77   \n",
      "25  2015   4687787.0  2.917752e+11                       52.00   \n",
      "26  2016   4739597.0  2.990911e+11                       53.43   \n",
      "27  2017   4792490.0  3.363775e+11                       53.47   \n",
      "28  2018   4857015.0  3.857367e+11                       56.17   \n",
      "29  2019   4921496.0  3.993217e+11                       55.45   \n",
      "30  2020   4977443.0  4.258523e+11                       58.38   \n",
      "31  2021   5011460.0  5.041826e+11                       62.88   \n",
      "\n",
      "    Unemployment (in Percent)  Annual Pop Growth  GDP_Per_Capita  \\\n",
      "0                        17.2                NaN    14064.017459   \n",
      "1                        19.0           0.567631    14121.309693   \n",
      "2                        16.3           0.816859    15731.759213   \n",
      "3                        16.7           0.551414    14665.923621   \n",
      "4                        15.1           0.330153    15922.824414   \n",
      "5                        14.1           0.429460    19198.573635   \n",
      "6                        11.8           0.688279    20901.535537   \n",
      "7                         9.9           1.054194    22611.782552   \n",
      "8                         7.6           1.058016    24357.929453   \n",
      "9                         5.9           1.041430    26430.595474   \n",
      "10                        4.4           1.279891    26443.240130   \n",
      "11                        4.2           1.521611    28422.417882   \n",
      "12                        4.7           1.819636    32828.534872   \n",
      "13                        4.9           1.599355    41376.093855   \n",
      "14                        4.8           1.641644    48050.205588   \n",
      "15                        4.6           2.191517    51254.291629   \n",
      "16                        4.8           2.397045    54851.054001   \n",
      "17                        5.0           3.376220    61720.528168   \n",
      "18                        6.8           2.496160    61414.308238   \n",
      "19                       12.6           1.077464    52155.860200   \n",
      "20                       14.6           0.471347    48721.209179   \n",
      "21                       15.4           0.441845    52242.400734   \n",
      "22                       15.5           0.411136    49117.018308   \n",
      "23                       13.8           0.456539    51648.527748   \n",
      "24                       11.9           0.666808    55790.388778   \n",
      "25                        9.9           0.911582    62241.558011   \n",
      "26                        8.4           1.105212    63104.759228   \n",
      "27                        6.8           1.115981    70188.461564   \n",
      "28                        5.8           1.346377    79418.466033   \n",
      "29                        5.0           1.327585    81138.276173   \n",
      "30                        5.8           1.136788    85556.435690   \n",
      "31                        6.3           0.683423   100605.931859   \n",
      "\n",
      "    Annual GDP Growth  \n",
      "0                 NaN  \n",
      "1            0.977311  \n",
      "2           12.314409  \n",
      "3           -6.261001  \n",
      "4            8.928660  \n",
      "5           21.090476  \n",
      "6            9.619584  \n",
      "7            9.322852  \n",
      "8            8.862006  \n",
      "9            9.639252  \n",
      "10           1.328344  \n",
      "11           9.120124  \n",
      "12          17.603980  \n",
      "13          28.052759  \n",
      "14          18.036804  \n",
      "15           9.005857  \n",
      "16           9.582743  \n",
      "17          16.322923  \n",
      "18           1.987636  \n",
      "19         -14.160361  \n",
      "20          -6.145053  \n",
      "21           7.701004  \n",
      "22          -5.595924  \n",
      "23           5.634106  \n",
      "24           8.739603  \n",
      "25          12.580217  \n",
      "26           2.507397  \n",
      "27          12.466559  \n",
      "28          14.673746  \n",
      "29           3.521838  \n",
      "30           6.643911  \n",
      "31          18.393778  \n"
     ]
    }
   ],
   "source": [
    "print(irl_econ_data)"
   ]
  },
  {
   "cell_type": "code",
   "execution_count": 36,
   "id": "8697ecfd",
   "metadata": {},
   "outputs": [],
   "source": [
    "#We can see that for 'Annual GDP Growth' and 'Annual Pop Growth' that the year 1990 has an NaN value as there is no preceeding year to calulate from, I will fill these with zero\n",
    "irl_econ_data=irl_econ_data.fillna(0)"
   ]
  },
  {
   "cell_type": "code",
   "execution_count": 37,
   "id": "7b9f5267",
   "metadata": {},
   "outputs": [
    {
     "name": "stdout",
     "output_type": "stream",
     "text": [
      "    Year  Population           GDP  Tertiary Education % 25-34  \\\n",
      "0   1990   3505800.0  4.930563e+10                       19.66   \n",
      "1   1991   3525700.0  4.978750e+10                       19.66   \n",
      "2   1992   3554500.0  5.591854e+10                       21.19   \n",
      "3   1993   3574100.0  5.241748e+10                       24.38   \n",
      "4   1994   3585900.0  5.709766e+10                       24.38   \n",
      "5   1995   3601300.0  6.913982e+10                       27.18   \n",
      "6   1996   3626087.0  7.579079e+10                       29.80   \n",
      "7   1997   3664313.0  8.285665e+10                       29.80   \n",
      "8   1998   3703082.0  9.019941e+10                       29.80   \n",
      "9   1999   3741647.0  9.889396e+10                       29.80   \n",
      "10  2000   3789536.0  1.002076e+11                       29.80   \n",
      "11  2001   3847198.0  1.093467e+11                       33.41   \n",
      "12  2002   3917203.0  1.285960e+11                       35.21   \n",
      "13  2003   3979853.0  1.646708e+11                       37.06   \n",
      "14  2004   4045188.0  1.943721e+11                       39.63   \n",
      "15  2005   4133839.0  2.118770e+11                       40.67   \n",
      "16  2006   4232929.0  2.321806e+11                       42.46   \n",
      "17  2007   4375842.0  2.700793e+11                       44.09   \n",
      "18  2008   4485070.0  2.754475e+11                       45.06   \n",
      "19  2009   4533395.0  2.364431e+11                       47.53   \n",
      "20  2010   4554763.0  2.219136e+11                       48.32   \n",
      "21  2011   4574888.0  2.390031e+11                       47.43   \n",
      "22  2012   4593697.0  2.256287e+11                       49.21   \n",
      "23  2013   4614669.0  2.383409e+11                       51.07   \n",
      "24  2014   4645440.0  2.591709e+11                       50.77   \n",
      "25  2015   4687787.0  2.917752e+11                       52.00   \n",
      "26  2016   4739597.0  2.990911e+11                       53.43   \n",
      "27  2017   4792490.0  3.363775e+11                       53.47   \n",
      "28  2018   4857015.0  3.857367e+11                       56.17   \n",
      "29  2019   4921496.0  3.993217e+11                       55.45   \n",
      "30  2020   4977443.0  4.258523e+11                       58.38   \n",
      "31  2021   5011460.0  5.041826e+11                       62.88   \n",
      "\n",
      "    Unemployment (in Percent)  Annual Pop Growth  GDP_Per_Capita  \\\n",
      "0                        17.2           0.000000    14064.017459   \n",
      "1                        19.0           0.567631    14121.309693   \n",
      "2                        16.3           0.816859    15731.759213   \n",
      "3                        16.7           0.551414    14665.923621   \n",
      "4                        15.1           0.330153    15922.824414   \n",
      "5                        14.1           0.429460    19198.573635   \n",
      "6                        11.8           0.688279    20901.535537   \n",
      "7                         9.9           1.054194    22611.782552   \n",
      "8                         7.6           1.058016    24357.929453   \n",
      "9                         5.9           1.041430    26430.595474   \n",
      "10                        4.4           1.279891    26443.240130   \n",
      "11                        4.2           1.521611    28422.417882   \n",
      "12                        4.7           1.819636    32828.534872   \n",
      "13                        4.9           1.599355    41376.093855   \n",
      "14                        4.8           1.641644    48050.205588   \n",
      "15                        4.6           2.191517    51254.291629   \n",
      "16                        4.8           2.397045    54851.054001   \n",
      "17                        5.0           3.376220    61720.528168   \n",
      "18                        6.8           2.496160    61414.308238   \n",
      "19                       12.6           1.077464    52155.860200   \n",
      "20                       14.6           0.471347    48721.209179   \n",
      "21                       15.4           0.441845    52242.400734   \n",
      "22                       15.5           0.411136    49117.018308   \n",
      "23                       13.8           0.456539    51648.527748   \n",
      "24                       11.9           0.666808    55790.388778   \n",
      "25                        9.9           0.911582    62241.558011   \n",
      "26                        8.4           1.105212    63104.759228   \n",
      "27                        6.8           1.115981    70188.461564   \n",
      "28                        5.8           1.346377    79418.466033   \n",
      "29                        5.0           1.327585    81138.276173   \n",
      "30                        5.8           1.136788    85556.435690   \n",
      "31                        6.3           0.683423   100605.931859   \n",
      "\n",
      "    Annual GDP Growth  \n",
      "0            0.000000  \n",
      "1            0.977311  \n",
      "2           12.314409  \n",
      "3           -6.261001  \n",
      "4            8.928660  \n",
      "5           21.090476  \n",
      "6            9.619584  \n",
      "7            9.322852  \n",
      "8            8.862006  \n",
      "9            9.639252  \n",
      "10           1.328344  \n",
      "11           9.120124  \n",
      "12          17.603980  \n",
      "13          28.052759  \n",
      "14          18.036804  \n",
      "15           9.005857  \n",
      "16           9.582743  \n",
      "17          16.322923  \n",
      "18           1.987636  \n",
      "19         -14.160361  \n",
      "20          -6.145053  \n",
      "21           7.701004  \n",
      "22          -5.595924  \n",
      "23           5.634106  \n",
      "24           8.739603  \n",
      "25          12.580217  \n",
      "26           2.507397  \n",
      "27          12.466559  \n",
      "28          14.673746  \n",
      "29           3.521838  \n",
      "30           6.643911  \n",
      "31          18.393778  \n"
     ]
    }
   ],
   "source": [
    "print(irl_econ_data)"
   ]
  },
  {
   "cell_type": "markdown",
   "id": "62fc46fc",
   "metadata": {},
   "source": [
    "Analysis & Visualisation"
   ]
  },
  {
   "cell_type": "code",
   "execution_count": 38,
   "id": "ccc43efc",
   "metadata": {},
   "outputs": [
    {
     "name": "stdout",
     "output_type": "stream",
     "text": [
      "1505660.0\n"
     ]
    }
   ],
   "source": [
    "#To begin my analysis I want to examine by how much Ireland's population and GDP grew between 1990 and 2021 to this I create a custom function\n",
    "def pop_growth(irl_econ_data, year1, year31):\n",
    "    pop_begin = irl_econ_data[irl_econ_data['Year'] == year1].iloc[0, 1]\n",
    "    pop_end = irl_econ_data[irl_econ_data['Year'] == year31].iloc[0, 1]\n",
    "    return pop_end - pop_begin\n",
    "irl_pop_change = pop_growth(irl_econ_data, 1990, 2021)\n",
    "print(irl_pop_change)"
   ]
  },
  {
   "cell_type": "code",
   "execution_count": 39,
   "id": "223fc191",
   "metadata": {},
   "outputs": [
    {
     "name": "stdout",
     "output_type": "stream",
     "text": [
      "454876970868.0\n"
     ]
    }
   ],
   "source": [
    "#I use the same custom function for GDP\n",
    "def gdp_growth(irl_econ_data, year1, year31):\n",
    "    gdp_begin = irl_econ_data[irl_econ_data['Year'] == year1].iloc[0, 2]\n",
    "    gdp_end = irl_econ_data[irl_econ_data['Year'] == year31].iloc[0, 2]\n",
    "    return gdp_end - gdp_begin\n",
    "irl_GDP_change = gdp_growth(irl_econ_data, 1990, 2021)\n",
    "print(irl_GDP_change)"
   ]
  },
  {
   "cell_type": "code",
   "execution_count": 40,
   "id": "c59751f0",
   "metadata": {},
   "outputs": [],
   "source": [
    "# We can see that Ireland's grew by 1505660 and its GDP grew by 454876970868"
   ]
  },
  {
   "cell_type": "markdown",
   "id": "6b240464",
   "metadata": {},
   "source": [
    "Population Growth Rate and GDP Growth Rate"
   ]
  },
  {
   "cell_type": "code",
   "execution_count": 41,
   "id": "9f17c8b0",
   "metadata": {},
   "outputs": [
    {
     "name": "stdout",
     "output_type": "stream",
     "text": [
      "3.376220106692074\n",
      "1.0561048726884126\n"
     ]
    }
   ],
   "source": [
    "# I want to see what year was the population growth rate at its maximum,and what was the media growth rate, to do this I will use numpy functions\n",
    "\n",
    "annual_pop_growth = irl_econ_data['Annual Pop Growth']\n",
    "maximum_pop_growth_rate = np.max(annual_pop_growth)\n",
    "median_pop_growth_rate = np.median(annual_pop_growth)\n",
    "print(maximum_pop_growth_rate)\n",
    "print(median_pop_growth_rate)\n",
    "\n",
    "#We can see that the population growth rate spiked in 2007 at 3.8% and the median population growth rate was 1.06%"
   ]
  },
  {
   "cell_type": "code",
   "execution_count": 42,
   "id": "cae7f13b",
   "metadata": {},
   "outputs": [
    {
     "name": "stdout",
     "output_type": "stream",
     "text": [
      "-14.16036073685235\n",
      "7.890485556223325\n"
     ]
    }
   ],
   "source": [
    "# I now want to see in what year did Ireland see the lowest annual growth GDP growth rate and Ireland's average GDP growth rate between 1990 and 2021\n",
    "\n",
    "annual_gdp_growth = irl_econ_data['Annual GDP Growth']\n",
    "minimum_gdp_growth_rate = np.min(annual_gdp_growth)\n",
    "average_gdp_growth_rate = np.mean(annual_gdp_growth)\n",
    "print(minimum_gdp_growth_rate)\n",
    "print(average_gdp_growth_rate)\n",
    "\n",
    "#We see that in 2009 the GDP of Ireland dropped by 14.2% and the average Irish GDP growth between 1990 & 2021 was 7%"
   ]
  },
  {
   "cell_type": "code",
   "execution_count": 43,
   "id": "ec228aa6",
   "metadata": {},
   "outputs": [
    {
     "name": "stdout",
     "output_type": "stream",
     "text": [
      "      Year  Population           GDP  Tertiary Education % 25-34  \\\n",
      "3   1993.0   3574100.0  5.241748e+10                       24.38   \n",
      "19  2009.0   4533395.0  2.364431e+11                       47.53   \n",
      "20  2010.0   4554763.0  2.219136e+11                       48.32   \n",
      "22  2012.0   4593697.0  2.256287e+11                       49.21   \n",
      "\n",
      "    Unemployment (in Percent)  Annual Pop Growth  GDP_Per_Capita  \\\n",
      "3                        16.7           0.551414    14665.923621   \n",
      "19                       12.6           1.077464    52155.860200   \n",
      "20                       14.6           0.471347    48721.209179   \n",
      "22                       15.5           0.411136    49117.018308   \n",
      "\n",
      "    Annual GDP Growth  \n",
      "3           -6.261001  \n",
      "19         -14.160361  \n",
      "20          -6.145053  \n",
      "22          -5.595924  \n"
     ]
    }
   ],
   "source": [
    "#To find what years Ireland was in recession I create a for loop that creates an a recession dataframe of years that GDP growth was less than 0 \n",
    "column = 'Annual GDP Growth'\n",
    "\n",
    "recession = []\n",
    "\n",
    "for index, row in irl_econ_data.iterrows():\n",
    "    if row[column] < 0:\n",
    "        recession.append(row)\n",
    "        \n",
    "recession_df = pd.DataFrame(recession)\n",
    "print(recession_df)"
   ]
  },
  {
   "cell_type": "code",
   "execution_count": 44,
   "id": "d6d93823",
   "metadata": {},
   "outputs": [
    {
     "data": {
      "image/png": "[encoded data removed]",
      "text/plain": [
       "<Figure size 432x288 with 1 Axes>"
      ]
     },
     "metadata": {
      "needs_background": "light"
     },
     "output_type": "display_data"
    }
   ],
   "source": [
    "#I want to creat a graph of Ireland's population, I use sns.lineplot() to do this\n",
    "\n",
    "sns.lineplot(x=\"Year\", y=\"Population\", data=irl_econ_data)\n",
    "plt.show()"
   ]
  },
  {
   "cell_type": "code",
   "execution_count": 45,
   "id": "2facae49",
   "metadata": {},
   "outputs": [
    {
     "data": {
      "image/png": "[encoded data removed]",
      "text/plain": [
       "<Figure size 432x288 with 1 Axes>"
      ]
     },
     "metadata": {
      "needs_background": "light"
     },
     "output_type": "display_data"
    }
   ],
   "source": [
    "#I want to creat a graph of Ireland's GDP, I use sns.lineplot() to do this\n",
    "sns.lineplot(x=\"Year\", y=\"GDP\", data=irl_econ_data)\n",
    "plt.show()"
   ]
  },
  {
   "cell_type": "code",
   "execution_count": 46,
   "id": "453fc15a",
   "metadata": {},
   "outputs": [
    {
     "data": {
      "image/png": "[encoded data removed]",
      "text/plain": [
       "<Figure size 432x288 with 1 Axes>"
      ]
     },
     "metadata": {
      "needs_background": "light"
     },
     "output_type": "display_data"
    }
   ],
   "source": [
    "#Barchart of Ireland's GDP growth rate (when I orginally made this bar chart you couldn't read the x axis labels, that is why I have set the x ticks along the specified indices)\n",
    "\n",
    "sns.barplot(x=\"Year\", y=\"Annual GDP Growth\", data=irl_econ_data)\n",
    "indices = [0, 4, 8, 12, 16, 20, 24, 28]\n",
    "labels = irl_econ_data['Year'].unique()[indices]\n",
    "plt.xticks(indices, labels)\n",
    "plt.show()\n"
   ]
  },
  {
   "cell_type": "code",
   "execution_count": 47,
   "id": "e35bfc61",
   "metadata": {},
   "outputs": [
    {
     "data": {
      "image/png": "[encoded data removed]",
      "text/plain": [
       "<Figure size 432x288 with 1 Axes>"
      ]
     },
     "metadata": {
      "needs_background": "light"
     },
     "output_type": "display_data"
    }
   ],
   "source": [
    "#Barchart of Ireland's Population growth rate\n",
    "sns.barplot(x=\"Year\", y=\"Annual Pop Growth\", data=irl_econ_data)\n",
    "indices = [0, 4, 8, 12, 16, 20, 24, 28]\n",
    "labels = irl_econ_data['Year'].unique()[indices]\n",
    "plt.xticks(indices, labels)\n",
    "plt.show()"
   ]
  },
  {
   "cell_type": "markdown",
   "id": "72246b22",
   "metadata": {},
   "source": [
    "Relationships between variables"
   ]
  },
  {
   "cell_type": "code",
   "execution_count": 48,
   "id": "d12d22b9",
   "metadata": {},
   "outputs": [
    {
     "data": {
      "text/plain": [
       "<AxesSubplot:xlabel='GDP_Per_Capita', ylabel='Tertiary Education % 25-34'>"
      ]
     },
     "execution_count": 48,
     "metadata": {},
     "output_type": "execute_result"
    },
    {
     "data": {
      "image/png": "[encoded data removed]",
      "text/plain": [
       "<Figure size 432x288 with 1 Axes>"
      ]
     },
     "metadata": {
      "needs_background": "light"
     },
     "output_type": "display_data"
    }
   ],
   "source": [
    "# I want to examine the relationship between educational attainment levels and GDP per Capita, I begin by creating a scatterplot\n",
    "\n",
    "sns.scatterplot(x='GDP_Per_Capita',y='Tertiary Education % 25-34', data=irl_econ_data)"
   ]
  },
  {
   "cell_type": "code",
   "execution_count": 49,
   "id": "1ccfb6fb",
   "metadata": {},
   "outputs": [
    {
     "data": {
      "text/plain": [
       "0.9579111072718807"
      ]
     },
     "execution_count": 49,
     "metadata": {},
     "output_type": "execute_result"
    }
   ],
   "source": [
    "#It seems that there is a relationship there\n",
    "#To further examine this I use the .corr() function to see if there a statistical relationship\n",
    "\n",
    "irl_econ_data['GDP_Per_Capita'].corr(irl_econ_data['Tertiary Education % 25-34'])\n",
    "\n",
    "#We can see from the output that there is a strong postive relationship between the two variables"
   ]
  },
  {
   "cell_type": "code",
   "execution_count": 50,
   "id": "db20eb42",
   "metadata": {},
   "outputs": [
    {
     "data": {
      "text/plain": [
       "<AxesSubplot:xlabel='GDP_Per_Capita', ylabel='Unemployment (in Percent)'>"
      ]
     },
     "execution_count": 50,
     "metadata": {},
     "output_type": "execute_result"
    },
    {
     "data": {
      "image/png": "[encoded data removed]",
      "text/plain": [
       "<Figure size 432x288 with 1 Axes>"
      ]
     },
     "metadata": {
      "needs_background": "light"
     },
     "output_type": "display_data"
    }
   ],
   "source": [
    "#I now want to examine the relationship between GDP Per Capita and the unemployment rate\n",
    "\n",
    "sns.scatterplot(x='GDP_Per_Capita',y='Unemployment (in Percent)', data=irl_econ_data)"
   ]
  },
  {
   "cell_type": "code",
   "execution_count": 51,
   "id": "588f33a5",
   "metadata": {},
   "outputs": [
    {
     "data": {
      "text/plain": [
       "-0.4781800871809543"
      ]
     },
     "execution_count": 51,
     "metadata": {},
     "output_type": "execute_result"
    }
   ],
   "source": [
    "#It seems like there is a mild relationshop there to further examine this I use .corr() function to see if there a statistical relationship\n",
    "\n",
    "irl_econ_data['GDP_Per_Capita'].corr(irl_econ_data['Unemployment (in Percent)'])"
   ]
  },
  {
   "cell_type": "code",
   "execution_count": 52,
   "id": "08c1f520",
   "metadata": {},
   "outputs": [],
   "source": [
    "#We can see that there is a mildly negative relationship between the two variables."
   ]
  }
 ],
 "metadata": {
  "kernelspec": {
   "display_name": "Python 3",
   "language": "python",
   "name": "python3"
  },
  "language_info": {
   "codemirror_mode": {
    "name": "ipython",
    "version": 3
   },
   "file_extension": ".py",
   "mimetype": "text/x-python",
   "name": "python",
   "nbconvert_exporter": "python",
   "pygments_lexer": "ipython3",
   "version": "3.8.8"
  }
 },
 "nbformat": 4,
 "nbformat_minor": 5
}
